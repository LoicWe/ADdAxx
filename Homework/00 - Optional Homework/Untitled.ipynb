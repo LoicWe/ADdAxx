{
 "cells": [
  {
   "cell_type": "code",
   "execution_count": 22,
   "id": "870e988f-a698-48f0-80c9-0fa5712fe916",
   "metadata": {},
   "outputs": [],
   "source": [
    "import pandas as pd\n"
   ]
  },
  {
   "cell_type": "code",
   "execution_count": 23,
   "id": "54463869-e572-4571-ade3-6d96b25853a5",
   "metadata": {},
   "outputs": [
    {
     "data": {
      "text/html": [
       "<div>\n",
       "<style scoped>\n",
       "    .dataframe tbody tr th:only-of-type {\n",
       "        vertical-align: middle;\n",
       "    }\n",
       "\n",
       "    .dataframe tbody tr th {\n",
       "        vertical-align: top;\n",
       "    }\n",
       "\n",
       "    .dataframe thead th {\n",
       "        text-align: right;\n",
       "    }\n",
       "</style>\n",
       "<table border=\"1\" class=\"dataframe\">\n",
       "  <thead>\n",
       "    <tr style=\"text-align: right;\">\n",
       "      <th></th>\n",
       "      <th>Intent</th>\n",
       "      <th>Gender</th>\n",
       "      <th>Age</th>\n",
       "      <th>Race</th>\n",
       "      <th>Deaths</th>\n",
       "      <th>Population</th>\n",
       "      <th>Rate</th>\n",
       "    </tr>\n",
       "  </thead>\n",
       "  <tbody>\n",
       "    <tr>\n",
       "      <th>1</th>\n",
       "      <td>None selected</td>\n",
       "      <td>None selected</td>\n",
       "      <td>None selected</td>\n",
       "      <td>None selected</td>\n",
       "      <td>33599</td>\n",
       "      <td>316299978</td>\n",
       "      <td>10.6</td>\n",
       "    </tr>\n",
       "    <tr>\n",
       "      <th>2</th>\n",
       "      <td>None selected</td>\n",
       "      <td>None selected</td>\n",
       "      <td>None selected</td>\n",
       "      <td>White</td>\n",
       "      <td>22079</td>\n",
       "      <td>197369634</td>\n",
       "      <td>11.2</td>\n",
       "    </tr>\n",
       "    <tr>\n",
       "      <th>3</th>\n",
       "      <td>None selected</td>\n",
       "      <td>None selected</td>\n",
       "      <td>None selected</td>\n",
       "      <td>Black</td>\n",
       "      <td>7765</td>\n",
       "      <td>38896382</td>\n",
       "      <td>20.0</td>\n",
       "    </tr>\n",
       "    <tr>\n",
       "      <th>4</th>\n",
       "      <td>None selected</td>\n",
       "      <td>None selected</td>\n",
       "      <td>None selected</td>\n",
       "      <td>Hispanic</td>\n",
       "      <td>3007</td>\n",
       "      <td>54049078</td>\n",
       "      <td>5.6</td>\n",
       "    </tr>\n",
       "    <tr>\n",
       "      <th>5</th>\n",
       "      <td>None selected</td>\n",
       "      <td>None selected</td>\n",
       "      <td>None selected</td>\n",
       "      <td>Asian/Pacific Islander</td>\n",
       "      <td>442</td>\n",
       "      <td>16315561</td>\n",
       "      <td>2.7</td>\n",
       "    </tr>\n",
       "  </tbody>\n",
       "</table>\n",
       "</div>"
      ],
      "text/plain": [
       "          Intent         Gender            Age                    Race  \\\n",
       "1  None selected  None selected  None selected           None selected   \n",
       "2  None selected  None selected  None selected                   White   \n",
       "3  None selected  None selected  None selected                   Black   \n",
       "4  None selected  None selected  None selected                Hispanic   \n",
       "5  None selected  None selected  None selected  Asian/Pacific Islander   \n",
       "\n",
       "   Deaths  Population  Rate  \n",
       "1   33599   316299978  10.6  \n",
       "2   22079   197369634  11.2  \n",
       "3    7765    38896382  20.0  \n",
       "4    3007    54049078   5.6  \n",
       "5     442    16315561   2.7  "
      ]
     },
     "execution_count": 2,
     "metadata": {},
     "output_type": "execute_result"
    }
   ],
   "source": [
    "## import data\n",
    "PATH = './data/interactive_data.txt'\n",
    "\n",
    "dataf = pd.read_csv(PATH, index_col=0)\n",
    "dataf.head(5)"
   ]
  },
  {
   "cell_type": "code",
   "execution_count": 24,
   "id": "ec7099f2-4915-4235-887d-f560bbd4504d",
   "metadata": {},
   "outputs": [
    {
     "data": {
      "text/html": [
       "<div>\n",
       "<style scoped>\n",
       "    .dataframe tbody tr th:only-of-type {\n",
       "        vertical-align: middle;\n",
       "    }\n",
       "\n",
       "    .dataframe tbody tr th {\n",
       "        vertical-align: top;\n",
       "    }\n",
       "\n",
       "    .dataframe thead th {\n",
       "        text-align: right;\n",
       "    }\n",
       "</style>\n",
       "<table border=\"1\" class=\"dataframe\">\n",
       "  <thead>\n",
       "    <tr style=\"text-align: right;\">\n",
       "      <th></th>\n",
       "      <th>Intent</th>\n",
       "      <th>Gender</th>\n",
       "      <th>Age</th>\n",
       "      <th>Race</th>\n",
       "      <th>Deaths</th>\n",
       "      <th>Population</th>\n",
       "      <th>Rate</th>\n",
       "    </tr>\n",
       "  </thead>\n",
       "  <tbody>\n",
       "    <tr>\n",
       "      <th>152</th>\n",
       "      <td>Suicide</td>\n",
       "      <td>Female</td>\n",
       "      <td>Under 15</td>\n",
       "      <td>White</td>\n",
       "      <td>19</td>\n",
       "      <td>15355910</td>\n",
       "      <td>0.1</td>\n",
       "    </tr>\n",
       "    <tr>\n",
       "      <th>153</th>\n",
       "      <td>Suicide</td>\n",
       "      <td>Female</td>\n",
       "      <td>Under 15</td>\n",
       "      <td>Black</td>\n",
       "      <td>1</td>\n",
       "      <td>4095428</td>\n",
       "      <td>0.0</td>\n",
       "    </tr>\n",
       "    <tr>\n",
       "      <th>154</th>\n",
       "      <td>Suicide</td>\n",
       "      <td>Female</td>\n",
       "      <td>Under 15</td>\n",
       "      <td>Hispanic</td>\n",
       "      <td>4</td>\n",
       "      <td>7330024</td>\n",
       "      <td>0.1</td>\n",
       "    </tr>\n",
       "    <tr>\n",
       "      <th>155</th>\n",
       "      <td>Suicide</td>\n",
       "      <td>Female</td>\n",
       "      <td>Under 15</td>\n",
       "      <td>Asian/Pacific Islander</td>\n",
       "      <td>1</td>\n",
       "      <td>1393440</td>\n",
       "      <td>0.1</td>\n",
       "    </tr>\n",
       "    <tr>\n",
       "      <th>156</th>\n",
       "      <td>Suicide</td>\n",
       "      <td>Female</td>\n",
       "      <td>Under 15</td>\n",
       "      <td>Other</td>\n",
       "      <td>0</td>\n",
       "      <td>1661877</td>\n",
       "      <td>0.0</td>\n",
       "    </tr>\n",
       "  </tbody>\n",
       "</table>\n",
       "</div>"
      ],
      "text/plain": [
       "      Intent  Gender       Age                    Race  Deaths  Population  \\\n",
       "152  Suicide  Female  Under 15                   White      19    15355910   \n",
       "153  Suicide  Female  Under 15                   Black       1     4095428   \n",
       "154  Suicide  Female  Under 15                Hispanic       4     7330024   \n",
       "155  Suicide  Female  Under 15  Asian/Pacific Islander       1     1393440   \n",
       "156  Suicide  Female  Under 15                   Other       0     1661877   \n",
       "\n",
       "     Rate  \n",
       "152   0.1  \n",
       "153   0.0  \n",
       "154   0.1  \n",
       "155   0.1  \n",
       "156   0.0  "
      ]
     },
     "execution_count": 3,
     "metadata": {},
     "output_type": "execute_result"
    }
   ],
   "source": [
    "dataff = dataf.loc[~(dataf=='None selected').any(axis=1)]\n",
    "dataff.head(5)"
   ]
  },
  {
   "cell_type": "code",
   "execution_count": 9,
   "id": "a67006f0-fc28-4c55-b752-e34b4dccf7cd",
   "metadata": {},
   "outputs": [
    {
     "name": "stdout",
     "output_type": "stream",
     "text": [
      "62.68194671826165\n"
     ]
    }
   ],
   "source": [
    "#Deaths\n",
    "deaths = dataff['Deaths'].sum()\n",
    "\n",
    "#Suicides\n",
    "suicides = dataff[dataff['Intent']=='Suicide']['Deaths'].sum()\n",
    "print(suicides/deaths * 100)"
   ]
  },
  {
   "cell_type": "code",
   "execution_count": 13,
   "id": "1f560ec6-15aa-4f2f-bb81-f9e8e6507555",
   "metadata": {},
   "outputs": [
    {
     "name": "stdout",
     "output_type": "stream",
     "text": [
      "86.24275809668535\n"
     ]
    }
   ],
   "source": [
    "#Male Suicides\n",
    "male_suicides = dataff[(dataff['Intent'] == 'Suicide') & (dataff['Gender'] == 'Male')]['Deaths'].sum()\n",
    "print(male_suicides/suicides * 100)"
   ]
  },
  {
   "cell_type": "code",
   "execution_count": 15,
   "id": "a6eafb95-9d81-4a88-88e7-b0af2b84da06",
   "metadata": {},
   "outputs": [
    {
     "name": "stdout",
     "output_type": "stream",
     "text": [
      "34.906980205387704\n"
     ]
    }
   ],
   "source": [
    "#Homicides\n",
    "homicides = dataff[dataff['Intent'] == 'Homicide']['Deaths'].sum()\n",
    "print(homicides/deaths * 100)"
   ]
  },
  {
   "cell_type": "code",
   "execution_count": 16,
   "id": "bee8427e-a895-403a-a131-4c1eb5ea54c8",
   "metadata": {},
   "outputs": [
    {
     "name": "stdout",
     "output_type": "stream",
     "text": [
      "66.12482748044778\n"
     ]
    }
   ],
   "source": [
    "#Homicide victims\n",
    "homicide_victims_black = dataff[\n",
    "                            (dataff['Intent'] == 'Homicide') &\n",
    "                            (dataff['Gender'] == 'Male') &\n",
    "                            (dataff['Age'] == '15 - 34') &\n",
    "                            (dataff['Race'] == 'Black')\n",
    "                        ]['Deaths'].sum()\n",
    "\n",
    "homicide_victims = dataff[\n",
    "                            (dataff['Intent'] == 'Homicide') &\n",
    "                            (dataff['Gender'] == 'Male') &\n",
    "                            (dataff['Age'] == '15 - 34')\n",
    "                        ]['Deaths'].sum()\n",
    "print(homicide_victims_black/homicide_victims *100)"
   ]
  },
  {
   "cell_type": "code",
   "execution_count": 17,
   "id": "37907b67-5375-422a-8cd1-e3d2664c5113",
   "metadata": {},
   "outputs": [
    {
     "name": "stdout",
     "output_type": "stream",
     "text": [
      "15.289502856655583\n"
     ]
    }
   ],
   "source": [
    "#Women\n",
    "women_homicides = dataff[\n",
    "                    (dataff['Intent'] == 'Homicide') &\n",
    "                    (dataff['Gender'] == 'Female')\n",
    "                ]['Deaths'].sum()\n",
    "print(women_homicides/homicides * 100)"
   ]
  },
  {
   "cell_type": "code",
   "execution_count": null,
   "id": "531e78d1-2b66-4102-9369-a3245f3565d9",
   "metadata": {},
   "outputs": [],
   "source": []
  }
 ],
 "metadata": {
  "kernelspec": {
   "display_name": "Python 3 (ipykernel)",
   "language": "python",
   "name": "python3"
  },
  "language_info": {
   "codemirror_mode": {
    "name": "ipython",
    "version": 3
   },
   "file_extension": ".py",
   "mimetype": "text/x-python",
   "name": "python",
   "nbconvert_exporter": "python",
   "pygments_lexer": "ipython3",
   "version": "3.9.12"
  }
 },
 "nbformat": 4,
 "nbformat_minor": 5
}
